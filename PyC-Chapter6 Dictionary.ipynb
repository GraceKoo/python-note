{
 "cells": [
  {
   "cell_type": "code",
   "execution_count": 1,
   "metadata": {},
   "outputs": [
    {
     "name": "stdout",
     "output_type": "stream",
     "text": [
      "green\n",
      "5\n"
     ]
    }
   ],
   "source": [
    "alien_0 = {'color':'green','points':5}\n",
    "print(alien_0['color'])\n",
    "print(alien_0['points'])"
   ]
  },
  {
   "cell_type": "code",
   "execution_count": 2,
   "metadata": {},
   "outputs": [
    {
     "name": "stdout",
     "output_type": "stream",
     "text": [
      "green\n"
     ]
    }
   ],
   "source": [
    "print(alien_0['color'])"
   ]
  },
  {
   "cell_type": "code",
   "execution_count": 3,
   "metadata": {},
   "outputs": [
    {
     "name": "stdout",
     "output_type": "stream",
     "text": [
      "{'color': 'green', 'points': 5, 'x_position': 0, 'y_position': 25}\n"
     ]
    }
   ],
   "source": [
    "alien_0['x_position'] = 0\n",
    "alien_0['y_position'] = 25\n",
    "print(alien_0)"
   ]
  },
  {
   "cell_type": "code",
   "execution_count": 4,
   "metadata": {},
   "outputs": [
    {
     "name": "stdout",
     "output_type": "stream",
     "text": [
      "{'color': 'green', 'points': '5'}\n"
     ]
    }
   ],
   "source": [
    "alien_0 = {}\n",
    "alien_0['color'] = 'green'\n",
    "alien_0['points'] = '5'\n",
    "print(alien_0)"
   ]
  },
  {
   "cell_type": "code",
   "execution_count": 5,
   "metadata": {},
   "outputs": [
    {
     "name": "stdout",
     "output_type": "stream",
     "text": [
      "{'color': 'green', 'points': 5}\n"
     ]
    }
   ],
   "source": [
    "alien_0 = {'color' : 'green','points': 5}\n",
    "print(alien_0)"
   ]
  },
  {
   "cell_type": "code",
   "execution_count": 6,
   "metadata": {},
   "outputs": [
    {
     "name": "stdout",
     "output_type": "stream",
     "text": [
      "{'color': 'green'}\n"
     ]
    }
   ],
   "source": [
    "del alien_0['points']\n",
    "print(alien_0)"
   ]
  },
  {
   "cell_type": "code",
   "execution_count": 7,
   "metadata": {},
   "outputs": [
    {
     "name": "stdout",
     "output_type": "stream",
     "text": [
      "Sarah's favourite language isC.\n"
     ]
    }
   ],
   "source": [
    "favourite_languages = {\n",
    "    'jen': 'python',\n",
    "    'sarah': 'c',\n",
    "    'edward': 'ruby',\n",
    "    'phil':'python',\n",
    "}\n",
    "print(\"Sarah's favourite language is\" + \n",
    "     favourite_languages['sarah'].title() +\n",
    "      '.')"
   ]
  },
  {
   "cell_type": "code",
   "execution_count": null,
   "metadata": {
    "collapsed": true
   },
   "outputs": [],
   "source": [
    "user_0 = {\n",
    "    'username':'efermi',\n",
    "    'first':'enrico',\n",
    "    'last':'femi',\n",
    "}\n"
   ]
  },
  {
   "cell_type": "code",
   "execution_count": 9,
   "metadata": {},
   "outputs": [
    {
     "name": "stdout",
     "output_type": "stream",
     "text": [
      "\n",
      "key:username\n",
      "Value:efermi\n",
      "\n",
      "key:first\n",
      "Value:enrico\n",
      "\n",
      "key:last\n",
      "Value:femi\n"
     ]
    }
   ],
   "source": [
    "user_0 = {\n",
    "    'username':'efermi',\n",
    "    'first':'enrico',\n",
    "    'last':'femi',\n",
    "}\n",
    "for key,value in user_0.items():\n",
    "    print(\"\\nkey:\" + key)\n",
    "    print(\"Value:\" + value)"
   ]
  },
  {
   "cell_type": "code",
   "execution_count": 11,
   "metadata": {},
   "outputs": [
    {
     "name": "stdout",
     "output_type": "stream",
     "text": [
      "Username\n",
      "First\n",
      "Last\n"
     ]
    }
   ],
   "source": [
    "for name in user_0.keys():\n",
    "    print(name.title())"
   ]
  },
  {
   "cell_type": "code",
   "execution_count": 14,
   "metadata": {},
   "outputs": [
    {
     "name": "stdout",
     "output_type": "stream",
     "text": [
      "Jen\n",
      "Sarah\n",
      "HiSarah, I see your favourite_language isC!\n",
      "Edward\n",
      "Phil\n",
      "HiPhil, I see your favourite_language isPython!\n"
     ]
    }
   ],
   "source": [
    "favourite_languages = {\n",
    "    'jen': 'python',\n",
    "    'sarah': 'c',\n",
    "    'edward': 'ruby',\n",
    "    'phil':'python',\n",
    "}\n",
    "\n",
    "friends = ['phil','sarah']\n",
    "for name in favourite_languages.keys():\n",
    "    print(name.title())\n",
    "    \n",
    "    if name in friends:\n",
    "        print(\"Hi\" + name.title() +\", I see your favourite_language is\" +\n",
    "             favourite_languages[name].title() + \"!\")"
   ]
  },
  {
   "cell_type": "code",
   "execution_count": 16,
   "metadata": {},
   "outputs": [
    {
     "name": "stdout",
     "output_type": "stream",
     "text": [
      "Edward,thank u for taking the poll\n",
      "Jen,thank u for taking the poll\n",
      "Phil,thank u for taking the poll\n",
      "Sarah,thank u for taking the poll\n"
     ]
    }
   ],
   "source": [
    "for name in sorted(favourite_languages.keys()):\n",
    "    print(name.title() + ',thank u for taking the poll')"
   ]
  },
  {
   "cell_type": "code",
   "execution_count": 19,
   "metadata": {},
   "outputs": [
    {
     "name": "stdout",
     "output_type": "stream",
     "text": [
      "the favourite languages is Python\n",
      "the favourite languages is C\n",
      "the favourite languages is Ruby\n",
      "the favourite languages is Python\n"
     ]
    }
   ],
   "source": [
    "for language in favourite_languages.values():\n",
    "    print(\"the favourite languages is \" + language.title())"
   ]
  },
  {
   "cell_type": "code",
   "execution_count": 20,
   "metadata": {},
   "outputs": [
    {
     "name": "stdout",
     "output_type": "stream",
     "text": [
      "the favourite languages is C\n",
      "the favourite languages is Ruby\n",
      "the favourite languages is Python\n"
     ]
    }
   ],
   "source": [
    "for language in set(favourite_languages.values()):\n",
    "    print(\"the favourite languages is \" + language.title())"
   ]
  },
  {
   "cell_type": "code",
   "execution_count": 21,
   "metadata": {},
   "outputs": [
    {
     "name": "stdout",
     "output_type": "stream",
     "text": [
      "{'color': 'green', 'points': '5'}\n",
      "{'color': 'yellow', 'points': '10'}\n",
      "{'color': 'red', 'points': '15'}\n"
     ]
    }
   ],
   "source": [
    "alien_0 = {'color':'green','points':'5'}     #alien字典\n",
    "alien_1 = {'color':'yellow','points':'10'}\n",
    "alien_2 = {'color':'red','points':'15'}\n",
    "\n",
    "aliens = [alien_0,alien_1,alien_2]           #aliens列表\n",
    "\n",
    "for alien in aliens:\n",
    "    print(alien)"
   ]
  },
  {
   "cell_type": "code",
   "execution_count": 2,
   "metadata": {},
   "outputs": [
    {
     "name": "stdout",
     "output_type": "stream",
     "text": [
      "You ordered a thick-crust pizza with the following toppings:\n",
      "\tmushrooms\n",
      "\textra cheese\n"
     ]
    }
   ],
   "source": [
    "pizza = {\n",
    "    'crust': 'thick',\n",
    "    'toppings': ['mushrooms','extra cheese'],\n",
    "}\n",
    "\n",
    "print(\"You ordered a \" + pizza['crust'] + '-crust pizza ' +\n",
    "     \"with the following toppings:\")\n",
    "\n",
    "for topping in pizza['toppings']:\n",
    "    print(\"\\t\" + topping)"
   ]
  },
  {
   "cell_type": "code",
   "execution_count": 4,
   "metadata": {},
   "outputs": [
    {
     "name": "stdout",
     "output_type": "stream",
     "text": [
      "\n",
      "Username:GK\n",
      "\tFull name:Grace Koo\n",
      "\tlocation: 6Lanzhou\n",
      "\n",
      "Username:BJ\n",
      "\tFull name:Benedict Jin\n",
      "\tlocation: Yangzhou\n"
     ]
    }
   ],
   "source": [
    "users = {\n",
    "    'GK': {\n",
    "        'first':'Grace',\n",
    "        'last': 'Koo',\n",
    "        'location':'6Lanzhou',\n",
    "    },                            #这是一个键值对，‘，’莫忘记\n",
    "    'BJ':{\n",
    "        'first':'Benedict',\n",
    "        'last':'Jin',\n",
    "        'location':'Yangzhou',\n",
    "    },\n",
    "} \n",
    "for username,user_info in users.items():\n",
    "        print(\"\\nUsername:\" + username)\n",
    "        full_name = user_info['first'] + \" \" + user_info[\"last\"]\n",
    "        location = user_info['location']\n",
    "        \n",
    "        print(\"\\tFull name:\" + full_name.title())\n",
    "        print(\"\\tlocation: \" + location.title())\n"
   ]
  },
  {
   "cell_type": "code",
   "execution_count": 8,
   "metadata": {},
   "outputs": [
    {
     "name": "stdout",
     "output_type": "stream",
     "text": [
      "Jen's favourite language are:\n",
      "\tPython\n",
      "\tRuby\n",
      "Sarah's favourite language are:\n",
      "\tC\n",
      "Edward's favourite language are:\n",
      "\tRuby\n",
      "\tGo\n",
      "Phil's favourite language are:\n",
      "\tPython\n",
      "\tHaskell\n"
     ]
    }
   ],
   "source": [
    "favourite_languages = {\n",
    "    'jen': ['python','ruby'],\n",
    "    'sarah': ['c'],\n",
    "    'edward': ['ruby','go'],\n",
    "    'phil': ['python','haskell'],\n",
    "}\n",
    "\n",
    "for name,languages in favourite_languages.items():\n",
    "    print( name.title() + \"'s favourite language are:\")\n",
    "    for language in languages:\n",
    "        print(\"\\t\" + language.title())"
   ]
  },
  {
   "cell_type": "code",
   "execution_count": null,
   "metadata": {
    "collapsed": true
   },
   "outputs": [],
   "source": []
  }
 ],
 "metadata": {
  "kernelspec": {
   "display_name": "Python 3",
   "language": "python",
   "name": "python3"
  },
  "language_info": {
   "codemirror_mode": {
    "name": "ipython",
    "version": 3
   },
   "file_extension": ".py",
   "mimetype": "text/x-python",
   "name": "python",
   "nbconvert_exporter": "python",
   "pygments_lexer": "ipython3",
   "version": "3.6.2"
  }
 },
 "nbformat": 4,
 "nbformat_minor": 2
}
